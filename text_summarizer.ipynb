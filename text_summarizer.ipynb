{
 "cells": [
  {
   "cell_type": "markdown",
   "metadata": {},
   "source": [
    "## Text Summarizer"
   ]
  },
  {
   "cell_type": "code",
   "execution_count": 34,
   "metadata": {},
   "outputs": [],
   "source": [
    "import spacy\n",
    "from string import punctuation\n",
    "from spacy.lang.en.stop_words import STOP_WORDS"
   ]
  },
  {
   "cell_type": "code",
   "execution_count": 35,
   "metadata": {},
   "outputs": [],
   "source": [
    "nlp=spacy.load(\"en_core_web_sm\")"
   ]
  },
  {
   "cell_type": "code",
   "execution_count": 36,
   "metadata": {},
   "outputs": [],
   "source": [
    "news=\"In 2018, twenty-three days after Thanos erased half of all life in the universe,[a] Carol Danvers rescues Tony Stark and Nebula from deep space and they reunite with the remaining Avengers—Bruce Banner, Steve Rogers, Thor, Natasha Romanoff, and James Rhodes—and Rocket on Earth. Locating Thanos on an uninhabited planet, they plan to use the Infinity Stones to reverse his actions, but discover Thanos has already destroyed them to prevent further use. Enraged, Thor decapitates Thanos.Five years later, Scott Lang escapes from the Quantum Realm.[b] Reaching the Avengers Compound, he explains that he experienced only five hours while trapped. Theorizing that the Quantum Realm allows time travel, they ask a reluctant Stark to help them retrieve the Stones from the past to reverse the actions of Thanos in the present. Stark, Rocket, and Banner, who has since merged his intelligence with the Hulk's strength, build a time machine. Banner notes that altering the past does not affect their present; any changes create alternate realities. Banner and Rocket travel to Norway, where they visit the Asgardian refugees' settlement New Asgard and recruit an overweight and despondent Thor. In Tokyo, Romanoff recruits Clint Barton, who became a vigilante after the death of his family.Banner, Lang, Rogers, and Stark time-travel to New York City during Loki's attack in 2012.[c] At the Sanctum Sanctorum, Banner convinces the Ancient One to give him the Time Stone after promising to return the various Stones to their proper points in time. At Stark Tower, Rogers retrieves the Mind Stone from Hydra sleeper agents, but Stark and Lang's attempt to steal the Space Stone fails, allowing 2012-Loki to escape with it. Rogers and Stark travel to Camp Lehigh in 1970, where Stark obtains an earlier version of the Space Stone and encounters his father, Howard. Rogers steals Pym Particles from Hank Pym to return to the present and spies his lost love, Peggy Carter.Meanwhile, Rocket and Thor travel to Asgard in 2013;[d] Rocket extracts the Reality Stone from Jane Foster, while Thor gets encouragement from his mother, Frigga, and retrieves his old hammer, Mjolnir. Barton, Romanoff, Nebula, and Rhodes travel to 2014; Nebula and Rhodes go to Morag and steal the Power Stone before Peter Quill can,[e] while Barton and Romanoff travel to Vormir. The Soul Stone's keeper, Red Skull, reveals it can only be acquired by sacrificing a loved one. Romanoff sacrifices herself, allowing Barton to get the Stone. Rhodes and Nebula attempt to return to their own time, but Nebula is incapacitated when her cybernetic implants link with her past self, allowing 2014-Thanos to learn of his future self's success and the Avengers' attempt to undo it. 2014-Thanos sends 2014-Nebula forward in time to prepare for his arrival.Reuniting in the present, the Avengers place the Stones into a gauntlet that Stark, Banner, and Rocket have built. Having the most resistance to their radiation, Banner wields the gauntlet and reverses Thanos's disintegrations. Meanwhile, 2014-Nebula, impersonating her future self, uses the time machine to transport 2014-Thanos and his warship to the present, which he then uses to destroy the Avengers Compound. Present-day Nebula convinces 2014-Gamora to betray Thanos, but is unable to convince 2014-Nebula and kills her. Thanos overpowers Stark, Thor, and a Mjolnir-wielding Rogers and summons his army to retrieve the Stones, intent on using them to destroy the universe and create a new one. A restored Stephen Strange arrives with other sorcerers, the restored Avengers and Guardians of the Galaxy, the Ravagers, and the armies of Wakanda and Asgard to fight Thanos's army. Danvers also arrives and destroys Thanos's warship, but Thanos overpowers her and seizes the gauntlet. Stark steals the Stones and uses them to disintegrate Thanos and his army, at the cost of his life.Following Stark's funeral, Thor appoints Valkyrie as the new king of New Asgard and joins the Guardians. Rogers returns the Stones and Mjolnir to their proper timelines and remains to live with Carter in the past. In the present, an elderly Rogers passes his shield to Sam Wilson.\""
   ]
  },
  {
   "cell_type": "code",
   "execution_count": 37,
   "metadata": {},
   "outputs": [],
   "source": [
    "doc=nlp(news)"
   ]
  },
  {
   "cell_type": "code",
   "execution_count": 38,
   "metadata": {},
   "outputs": [],
   "source": [
    "stop_words=list(STOP_WORDS)\n",
    "punctuation=punctuation+'\\n'"
   ]
  },
  {
   "cell_type": "code",
   "execution_count": 39,
   "metadata": {},
   "outputs": [
    {
     "data": {
      "text/plain": [
       "'!\"#$%&\\'()*+,-./:;<=>?@[\\\\]^_`{|}~\\n'"
      ]
     },
     "execution_count": 39,
     "metadata": {},
     "output_type": "execute_result"
    }
   ],
   "source": [
    "punctuation"
   ]
  },
  {
   "cell_type": "code",
   "execution_count": 40,
   "metadata": {},
   "outputs": [
    {
     "name": "stdout",
     "output_type": "stream",
     "text": [
      "['In', '2018', ',', 'twenty', '-', 'three', 'days', 'after', 'Thanos', 'erased', 'half', 'of', 'all', 'life', 'in', 'the', 'universe,[a', ']', 'Carol', 'Danvers', 'rescues', 'Tony', 'Stark', 'and', 'Nebula', 'from', 'deep', 'space', 'and', 'they', 'reunite', 'with', 'the', 'remaining', 'Avengers', '—', 'Bruce', 'Banner', ',', 'Steve', 'Rogers', ',', 'Thor', ',', 'Natasha', 'Romanoff', ',', 'and', 'James', 'Rhodes', '—', 'and', 'Rocket', 'on', 'Earth', '.', 'Locating', 'Thanos', 'on', 'an', 'uninhabited', 'planet', ',', 'they', 'plan', 'to', 'use', 'the', 'Infinity', 'Stones', 'to', 'reverse', 'his', 'actions', ',', 'but', 'discover', 'Thanos', 'has', 'already', 'destroyed', 'them', 'to', 'prevent', 'further', 'use', '.', 'Enraged', ',', 'Thor', 'decapitates', 'Thanos', '.', 'Five', 'years', 'later', ',', 'Scott', 'Lang', 'escapes', 'from', 'the', 'Quantum', 'Realm.[b', ']', 'Reaching', 'the', 'Avengers', 'Compound', ',', 'he', 'explains', 'that', 'he', 'experienced', 'only', 'five', 'hours', 'while', 'trapped', '.', 'Theorizing', 'that', 'the', 'Quantum', 'Realm', 'allows', 'time', 'travel', ',', 'they', 'ask', 'a', 'reluctant', 'Stark', 'to', 'help', 'them', 'retrieve', 'the', 'Stones', 'from', 'the', 'past', 'to', 'reverse', 'the', 'actions', 'of', 'Thanos', 'in', 'the', 'present', '.', 'Stark', ',', 'Rocket', ',', 'and', 'Banner', ',', 'who', 'has', 'since', 'merged', 'his', 'intelligence', 'with', 'the', 'Hulk', \"'s\", 'strength', ',', 'build', 'a', 'time', 'machine', '.', 'Banner', 'notes', 'that', 'altering', 'the', 'past', 'does', 'not', 'affect', 'their', 'present', ';', 'any', 'changes', 'create', 'alternate', 'realities', '.', 'Banner', 'and', 'Rocket', 'travel', 'to', 'Norway', ',', 'where', 'they', 'visit', 'the', 'Asgardian', 'refugees', \"'\", 'settlement', 'New', 'Asgard', 'and', 'recruit', 'an', 'overweight', 'and', 'despondent', 'Thor', '.', 'In', 'Tokyo', ',', 'Romanoff', 'recruits', 'Clint', 'Barton', ',', 'who', 'became', 'a', 'vigilante', 'after', 'the', 'death', 'of', 'his', 'family', '.', 'Banner', ',', 'Lang', ',', 'Rogers', ',', 'and', 'Stark', 'time', '-', 'travel', 'to', 'New', 'York', 'City', 'during', 'Loki', \"'s\", 'attack', 'in', '2012.[c', ']', 'At', 'the', 'Sanctum', 'Sanctorum', ',', 'Banner', 'convinces', 'the', 'Ancient', 'One', 'to', 'give', 'him', 'the', 'Time', 'Stone', 'after', 'promising', 'to', 'return', 'the', 'various', 'Stones', 'to', 'their', 'proper', 'points', 'in', 'time', '.', 'At', 'Stark', 'Tower', ',', 'Rogers', 'retrieves', 'the', 'Mind', 'Stone', 'from', 'Hydra', 'sleeper', 'agents', ',', 'but', 'Stark', 'and', 'Lang', \"'s\", 'attempt', 'to', 'steal', 'the', 'Space', 'Stone', 'fails', ',', 'allowing', '2012', '-', 'Loki', 'to', 'escape', 'with', 'it', '.', 'Rogers', 'and', 'Stark', 'travel', 'to', 'Camp', 'Lehigh', 'in', '1970', ',', 'where', 'Stark', 'obtains', 'an', 'earlier', 'version', 'of', 'the', 'Space', 'Stone', 'and', 'encounters', 'his', 'father', ',', 'Howard', '.', 'Rogers', 'steals', 'Pym', 'Particles', 'from', 'Hank', 'Pym', 'to', 'return', 'to', 'the', 'present', 'and', 'spies', 'his', 'lost', 'love', ',', 'Peggy', 'Carter', '.', 'Meanwhile', ',', 'Rocket', 'and', 'Thor', 'travel', 'to', 'Asgard', 'in', '2013;[d', ']', 'Rocket', 'extracts', 'the', 'Reality', 'Stone', 'from', 'Jane', 'Foster', ',', 'while', 'Thor', 'gets', 'encouragement', 'from', 'his', 'mother', ',', 'Frigga', ',', 'and', 'retrieves', 'his', 'old', 'hammer', ',', 'Mjolnir', '.', 'Barton', ',', 'Romanoff', ',', 'Nebula', ',', 'and', 'Rhodes', 'travel', 'to', '2014', ';', 'Nebula', 'and', 'Rhodes', 'go', 'to', 'Morag', 'and', 'steal', 'the', 'Power', 'Stone', 'before', 'Peter', 'Quill', 'can,[e', ']', 'while', 'Barton', 'and', 'Romanoff', 'travel', 'to', 'Vormir', '.', 'The', 'Soul', 'Stone', \"'s\", 'keeper', ',', 'Red', 'Skull', ',', 'reveals', 'it', 'can', 'only', 'be', 'acquired', 'by', 'sacrificing', 'a', 'loved', 'one', '.', 'Romanoff', 'sacrifices', 'herself', ',', 'allowing', 'Barton', 'to', 'get', 'the', 'Stone', '.', 'Rhodes', 'and', 'Nebula', 'attempt', 'to', 'return', 'to', 'their', 'own', 'time', ',', 'but', 'Nebula', 'is', 'incapacitated', 'when', 'her', 'cybernetic', 'implants', 'link', 'with', 'her', 'past', 'self', ',', 'allowing', '2014', '-', 'Thanos', 'to', 'learn', 'of', 'his', 'future', 'self', \"'s\", 'success', 'and', 'the', 'Avengers', \"'\", 'attempt', 'to', 'undo', 'it', '.', '2014', '-', 'Thanos', 'sends', '2014', '-', 'Nebula', 'forward', 'in', 'time', 'to', 'prepare', 'for', 'his', 'arrival', '.', 'Reuniting', 'in', 'the', 'present', ',', 'the', 'Avengers', 'place', 'the', 'Stones', 'into', 'a', 'gauntlet', 'that', 'Stark', ',', 'Banner', ',', 'and', 'Rocket', 'have', 'built', '.', 'Having', 'the', 'most', 'resistance', 'to', 'their', 'radiation', ',', 'Banner', 'wields', 'the', 'gauntlet', 'and', 'reverses', 'Thanos', \"'s\", 'disintegrations', '.', 'Meanwhile', ',', '2014', '-', 'Nebula', ',', 'impersonating', 'her', 'future', 'self', ',', 'uses', 'the', 'time', 'machine', 'to', 'transport', '2014', '-', 'Thanos', 'and', 'his', 'warship', 'to', 'the', 'present', ',', 'which', 'he', 'then', 'uses', 'to', 'destroy', 'the', 'Avengers', 'Compound', '.', 'Present', '-', 'day', 'Nebula', 'convinces', '2014', '-', 'Gamora', 'to', 'betray', 'Thanos', ',', 'but', 'is', 'unable', 'to', 'convince', '2014', '-', 'Nebula', 'and', 'kills', 'her', '.', 'Thanos', 'overpowers', 'Stark', ',', 'Thor', ',', 'and', 'a', 'Mjolnir', '-', 'wielding', 'Rogers', 'and', 'summons', 'his', 'army', 'to', 'retrieve', 'the', 'Stones', ',', 'intent', 'on', 'using', 'them', 'to', 'destroy', 'the', 'universe', 'and', 'create', 'a', 'new', 'one', '.', 'A', 'restored', 'Stephen', 'Strange', 'arrives', 'with', 'other', 'sorcerers', ',', 'the', 'restored', 'Avengers', 'and', 'Guardians', 'of', 'the', 'Galaxy', ',', 'the', 'Ravagers', ',', 'and', 'the', 'armies', 'of', 'Wakanda', 'and', 'Asgard', 'to', 'fight', 'Thanos', \"'s\", 'army', '.', 'Danvers', 'also', 'arrives', 'and', 'destroys', 'Thanos', \"'s\", 'warship', ',', 'but', 'Thanos', 'overpowers', 'her', 'and', 'seizes', 'the', 'gauntlet', '.', 'Stark', 'steals', 'the', 'Stones', 'and', 'uses', 'them', 'to', 'disintegrate', 'Thanos', 'and', 'his', 'army', ',', 'at', 'the', 'cost', 'of', 'his', 'life', '.', 'Following', 'Stark', \"'s\", 'funeral', ',', 'Thor', 'appoints', 'Valkyrie', 'as', 'the', 'new', 'king', 'of', 'New', 'Asgard', 'and', 'joins', 'the', 'Guardians', '.', 'Rogers', 'returns', 'the', 'Stones', 'and', 'Mjolnir', 'to', 'their', 'proper', 'timelines', 'and', 'remains', 'to', 'live', 'with', 'Carter', 'in', 'the', 'past', '.', 'In', 'the', 'present', ',', 'an', 'elderly', 'Rogers', 'passes', 'his', 'shield', 'to', 'Sam', 'Wilson', '.']\n"
     ]
    }
   ],
   "source": [
    "tokens=[words.text for words in doc ]\n",
    "print(tokens)"
   ]
  },
  {
   "cell_type": "code",
   "execution_count": 41,
   "metadata": {},
   "outputs": [
    {
     "name": "stdout",
     "output_type": "stream",
     "text": [
      "[In 2018, twenty-three days after Thanos erased half of all life in the universe,[a] Carol Danvers rescues Tony Stark and Nebula from deep space and they reunite with the remaining Avengers—Bruce Banner, Steve Rogers, Thor, Natasha Romanoff, and James Rhodes—and Rocket on Earth., Locating Thanos on an uninhabited planet, they plan to use the Infinity Stones to reverse his actions, but discover Thanos has already destroyed them to prevent further use., Enraged, Thor decapitates Thanos., Five years later, Scott Lang escapes from the Quantum Realm.[b] Reaching the Avengers Compound, he explains that he experienced only five hours while trapped., Theorizing that the Quantum Realm allows time travel, they ask a reluctant Stark to help them retrieve the Stones from the past to reverse the actions of Thanos in the present., Stark, Rocket, and Banner, who has since merged his intelligence with the Hulk's strength, build a time machine., Banner notes that altering the past does not affect their present; any changes create alternate realities., Banner and Rocket travel to Norway, where they visit the Asgardian refugees' settlement New Asgard and recruit an overweight and despondent Thor., In Tokyo, Romanoff recruits Clint Barton, who became a vigilante after the death of his family., Banner, Lang, Rogers, and Stark time-travel to New York City during Loki's attack in 2012.[c], At the Sanctum Sanctorum, Banner convinces the Ancient One to give him the Time Stone after promising to return the various Stones to their proper points in time., At Stark Tower, Rogers retrieves the Mind Stone from Hydra sleeper agents, but Stark and Lang's attempt to steal the Space Stone fails, allowing 2012-Loki to escape with it., Rogers and Stark travel to Camp Lehigh in 1970, where Stark obtains an earlier version of the Space Stone and encounters his father, Howard., Rogers steals Pym Particles from Hank Pym to return to the present and spies his lost love, Peggy Carter., Meanwhile, Rocket and Thor travel to Asgard in 2013;[d], Rocket extracts the Reality Stone from Jane Foster, while Thor gets encouragement from his mother, Frigga, and retrieves his old hammer, Mjolnir., Barton, Romanoff, Nebula, and Rhodes travel to 2014; Nebula and Rhodes go to Morag and steal the Power Stone before Peter Quill can,[e] while Barton and Romanoff travel to Vormir., The Soul Stone's keeper, Red Skull, reveals it can only be acquired by sacrificing a loved one., Romanoff sacrifices herself, allowing Barton to get the Stone., Rhodes and Nebula attempt to return to their own time, but Nebula is incapacitated when her cybernetic implants link with her past self, allowing 2014-Thanos to learn of his future self's success and the Avengers' attempt to undo it., 2014-Thanos sends 2014-Nebula forward in time to prepare for his arrival., Reuniting in the present, the Avengers place the Stones into a gauntlet that Stark, Banner, and Rocket have built., Having the most resistance to their radiation, Banner wields the gauntlet and reverses Thanos's disintegrations., Meanwhile, 2014-Nebula, impersonating her future self, uses the time machine to transport 2014-Thanos and his warship to the present, which he then uses to destroy the Avengers Compound., Present-day Nebula convinces 2014-Gamora to betray Thanos, but is unable to convince 2014-Nebula and kills her., Thanos overpowers Stark, Thor, and a Mjolnir-wielding Rogers and summons his army to retrieve the Stones, intent on using them to destroy the universe and create a new one., A restored Stephen Strange arrives with other sorcerers, the restored Avengers and Guardians of the Galaxy, the Ravagers, and the armies of Wakanda and Asgard to fight Thanos's army., Danvers also arrives and destroys Thanos's warship, but Thanos overpowers her and seizes the gauntlet., Stark steals the Stones and uses them to disintegrate Thanos and his army, at the cost of his life., Following Stark's funeral, Thor appoints Valkyrie as the new king of New Asgard and joins the Guardians., Rogers returns the Stones and Mjolnir to their proper timelines and remains to live with Carter in the past., In the present, an elderly Rogers passes his shield to Sam Wilson.]\n"
     ]
    }
   ],
   "source": [
    "sent_tokens=[sent for sent in doc.sents]\n",
    "print(sent_tokens)"
   ]
  },
  {
   "cell_type": "code",
   "execution_count": 42,
   "metadata": {},
   "outputs": [],
   "source": [
    "word_frequency={}\n",
    "for word in doc:\n",
    "    if word.text.lower() not in stop_words:\n",
    "        if word.text.lower() not in punctuation:\n",
    "            if word.text not in word_frequency.keys():\n",
    "                word_frequency[word.text]=1\n",
    "            else:\n",
    "                word_frequency[word.text]+=1\n"
   ]
  },
  {
   "cell_type": "code",
   "execution_count": 43,
   "metadata": {},
   "outputs": [
    {
     "name": "stdout",
     "output_type": "stream",
     "text": [
      "{'2018': 1, 'days': 1, 'Thanos': 15, 'erased': 1, 'half': 1, 'life': 2, 'universe,[a': 1, 'Carol': 1, 'Danvers': 2, 'rescues': 1, 'Tony': 1, 'Stark': 12, 'Nebula': 9, 'deep': 1, 'space': 1, 'reunite': 1, 'remaining': 1, 'Avengers': 6, '—': 2, 'Bruce': 1, 'Banner': 8, 'Steve': 1, 'Rogers': 8, 'Thor': 7, 'Natasha': 1, 'Romanoff': 5, 'James': 1, 'Rhodes': 4, 'Rocket': 6, 'Earth': 1, 'Locating': 1, 'uninhabited': 1, 'planet': 1, 'plan': 1, 'use': 2, 'Infinity': 1, 'Stones': 7, 'reverse': 2, 'actions': 2, 'discover': 1, 'destroyed': 1, 'prevent': 1, 'Enraged': 1, 'decapitates': 1, 'years': 1, 'later': 1, 'Scott': 1, 'Lang': 3, 'escapes': 1, 'Quantum': 2, 'Realm.[b': 1, 'Reaching': 1, 'Compound': 2, 'explains': 1, 'experienced': 1, 'hours': 1, 'trapped': 1, 'Theorizing': 1, 'Realm': 1, 'allows': 1, 'time': 7, 'travel': 7, 'ask': 1, 'reluctant': 1, 'help': 1, 'retrieve': 2, 'past': 4, 'present': 6, 'merged': 1, 'intelligence': 1, 'Hulk': 1, 'strength': 1, 'build': 1, 'machine': 2, 'notes': 1, 'altering': 1, 'affect': 1, 'changes': 1, 'create': 2, 'alternate': 1, 'realities': 1, 'Norway': 1, 'visit': 1, 'Asgardian': 1, 'refugees': 1, 'settlement': 1, 'New': 3, 'Asgard': 4, 'recruit': 1, 'overweight': 1, 'despondent': 1, 'Tokyo': 1, 'recruits': 1, 'Clint': 1, 'Barton': 4, 'vigilante': 1, 'death': 1, 'family': 1, 'York': 1, 'City': 1, 'Loki': 2, 'attack': 1, '2012.[c': 1, 'Sanctum': 1, 'Sanctorum': 1, 'convinces': 2, 'Ancient': 1, 'Time': 1, 'Stone': 8, 'promising': 1, 'return': 3, 'proper': 2, 'points': 1, 'Tower': 1, 'retrieves': 2, 'Mind': 1, 'Hydra': 1, 'sleeper': 1, 'agents': 1, 'attempt': 3, 'steal': 2, 'Space': 2, 'fails': 1, 'allowing': 3, '2012': 1, 'escape': 1, 'Camp': 1, 'Lehigh': 1, '1970': 1, 'obtains': 1, 'earlier': 1, 'version': 1, 'encounters': 1, 'father': 1, 'Howard': 1, 'steals': 2, 'Pym': 2, 'Particles': 1, 'Hank': 1, 'spies': 1, 'lost': 1, 'love': 1, 'Peggy': 1, 'Carter': 2, '2013;[d': 1, 'extracts': 1, 'Reality': 1, 'Jane': 1, 'Foster': 1, 'gets': 1, 'encouragement': 1, 'mother': 1, 'Frigga': 1, 'old': 1, 'hammer': 1, 'Mjolnir': 3, '2014': 8, 'Morag': 1, 'Power': 1, 'Peter': 1, 'Quill': 1, 'can,[e': 1, 'Vormir': 1, 'Soul': 1, 'keeper': 1, 'Red': 1, 'Skull': 1, 'reveals': 1, 'acquired': 1, 'sacrificing': 1, 'loved': 1, 'sacrifices': 1, 'incapacitated': 1, 'cybernetic': 1, 'implants': 1, 'link': 1, 'self': 3, 'learn': 1, 'future': 2, 'success': 1, 'undo': 1, 'sends': 1, 'forward': 1, 'prepare': 1, 'arrival': 1, 'Reuniting': 1, 'place': 1, 'gauntlet': 3, 'built': 1, 'Having': 1, 'resistance': 1, 'radiation': 1, 'wields': 1, 'reverses': 1, 'disintegrations': 1, 'impersonating': 1, 'uses': 3, 'transport': 1, 'warship': 2, 'destroy': 2, 'Present': 1, 'day': 1, 'Gamora': 1, 'betray': 1, 'unable': 1, 'convince': 1, 'kills': 1, 'overpowers': 2, 'wielding': 1, 'summons': 1, 'army': 3, 'intent': 1, 'universe': 1, 'new': 2, 'restored': 2, 'Stephen': 1, 'Strange': 1, 'arrives': 2, 'sorcerers': 1, 'Guardians': 2, 'Galaxy': 1, 'Ravagers': 1, 'armies': 1, 'Wakanda': 1, 'fight': 1, 'destroys': 1, 'seizes': 1, 'disintegrate': 1, 'cost': 1, 'Following': 1, 'funeral': 1, 'appoints': 1, 'Valkyrie': 1, 'king': 1, 'joins': 1, 'returns': 1, 'timelines': 1, 'remains': 1, 'live': 1, 'elderly': 1, 'passes': 1, 'shield': 1, 'Sam': 1, 'Wilson': 1}\n"
     ]
    }
   ],
   "source": [
    "print(word_frequency)"
   ]
  },
  {
   "cell_type": "code",
   "execution_count": 44,
   "metadata": {},
   "outputs": [],
   "source": [
    "max_frequency=max(word_frequency.values())"
   ]
  },
  {
   "cell_type": "code",
   "execution_count": 45,
   "metadata": {},
   "outputs": [
    {
     "data": {
      "text/plain": [
       "15"
      ]
     },
     "execution_count": 45,
     "metadata": {},
     "output_type": "execute_result"
    }
   ],
   "source": [
    "max_frequency"
   ]
  },
  {
   "cell_type": "code",
   "execution_count": 46,
   "metadata": {},
   "outputs": [],
   "source": [
    "for word in word_frequency:\n",
    "    word_frequency[word]=word_frequency[word]/max_frequency"
   ]
  },
  {
   "cell_type": "code",
   "execution_count": 47,
   "metadata": {},
   "outputs": [
    {
     "name": "stdout",
     "output_type": "stream",
     "text": [
      "{'2018': 0.06666666666666667, 'days': 0.06666666666666667, 'Thanos': 1.0, 'erased': 0.06666666666666667, 'half': 0.06666666666666667, 'life': 0.13333333333333333, 'universe,[a': 0.06666666666666667, 'Carol': 0.06666666666666667, 'Danvers': 0.13333333333333333, 'rescues': 0.06666666666666667, 'Tony': 0.06666666666666667, 'Stark': 0.8, 'Nebula': 0.6, 'deep': 0.06666666666666667, 'space': 0.06666666666666667, 'reunite': 0.06666666666666667, 'remaining': 0.06666666666666667, 'Avengers': 0.4, '—': 0.13333333333333333, 'Bruce': 0.06666666666666667, 'Banner': 0.5333333333333333, 'Steve': 0.06666666666666667, 'Rogers': 0.5333333333333333, 'Thor': 0.4666666666666667, 'Natasha': 0.06666666666666667, 'Romanoff': 0.3333333333333333, 'James': 0.06666666666666667, 'Rhodes': 0.26666666666666666, 'Rocket': 0.4, 'Earth': 0.06666666666666667, 'Locating': 0.06666666666666667, 'uninhabited': 0.06666666666666667, 'planet': 0.06666666666666667, 'plan': 0.06666666666666667, 'use': 0.13333333333333333, 'Infinity': 0.06666666666666667, 'Stones': 0.4666666666666667, 'reverse': 0.13333333333333333, 'actions': 0.13333333333333333, 'discover': 0.06666666666666667, 'destroyed': 0.06666666666666667, 'prevent': 0.06666666666666667, 'Enraged': 0.06666666666666667, 'decapitates': 0.06666666666666667, 'years': 0.06666666666666667, 'later': 0.06666666666666667, 'Scott': 0.06666666666666667, 'Lang': 0.2, 'escapes': 0.06666666666666667, 'Quantum': 0.13333333333333333, 'Realm.[b': 0.06666666666666667, 'Reaching': 0.06666666666666667, 'Compound': 0.13333333333333333, 'explains': 0.06666666666666667, 'experienced': 0.06666666666666667, 'hours': 0.06666666666666667, 'trapped': 0.06666666666666667, 'Theorizing': 0.06666666666666667, 'Realm': 0.06666666666666667, 'allows': 0.06666666666666667, 'time': 0.4666666666666667, 'travel': 0.4666666666666667, 'ask': 0.06666666666666667, 'reluctant': 0.06666666666666667, 'help': 0.06666666666666667, 'retrieve': 0.13333333333333333, 'past': 0.26666666666666666, 'present': 0.4, 'merged': 0.06666666666666667, 'intelligence': 0.06666666666666667, 'Hulk': 0.06666666666666667, 'strength': 0.06666666666666667, 'build': 0.06666666666666667, 'machine': 0.13333333333333333, 'notes': 0.06666666666666667, 'altering': 0.06666666666666667, 'affect': 0.06666666666666667, 'changes': 0.06666666666666667, 'create': 0.13333333333333333, 'alternate': 0.06666666666666667, 'realities': 0.06666666666666667, 'Norway': 0.06666666666666667, 'visit': 0.06666666666666667, 'Asgardian': 0.06666666666666667, 'refugees': 0.06666666666666667, 'settlement': 0.06666666666666667, 'New': 0.2, 'Asgard': 0.26666666666666666, 'recruit': 0.06666666666666667, 'overweight': 0.06666666666666667, 'despondent': 0.06666666666666667, 'Tokyo': 0.06666666666666667, 'recruits': 0.06666666666666667, 'Clint': 0.06666666666666667, 'Barton': 0.26666666666666666, 'vigilante': 0.06666666666666667, 'death': 0.06666666666666667, 'family': 0.06666666666666667, 'York': 0.06666666666666667, 'City': 0.06666666666666667, 'Loki': 0.13333333333333333, 'attack': 0.06666666666666667, '2012.[c': 0.06666666666666667, 'Sanctum': 0.06666666666666667, 'Sanctorum': 0.06666666666666667, 'convinces': 0.13333333333333333, 'Ancient': 0.06666666666666667, 'Time': 0.06666666666666667, 'Stone': 0.5333333333333333, 'promising': 0.06666666666666667, 'return': 0.2, 'proper': 0.13333333333333333, 'points': 0.06666666666666667, 'Tower': 0.06666666666666667, 'retrieves': 0.13333333333333333, 'Mind': 0.06666666666666667, 'Hydra': 0.06666666666666667, 'sleeper': 0.06666666666666667, 'agents': 0.06666666666666667, 'attempt': 0.2, 'steal': 0.13333333333333333, 'Space': 0.13333333333333333, 'fails': 0.06666666666666667, 'allowing': 0.2, '2012': 0.06666666666666667, 'escape': 0.06666666666666667, 'Camp': 0.06666666666666667, 'Lehigh': 0.06666666666666667, '1970': 0.06666666666666667, 'obtains': 0.06666666666666667, 'earlier': 0.06666666666666667, 'version': 0.06666666666666667, 'encounters': 0.06666666666666667, 'father': 0.06666666666666667, 'Howard': 0.06666666666666667, 'steals': 0.13333333333333333, 'Pym': 0.13333333333333333, 'Particles': 0.06666666666666667, 'Hank': 0.06666666666666667, 'spies': 0.06666666666666667, 'lost': 0.06666666666666667, 'love': 0.06666666666666667, 'Peggy': 0.06666666666666667, 'Carter': 0.13333333333333333, '2013;[d': 0.06666666666666667, 'extracts': 0.06666666666666667, 'Reality': 0.06666666666666667, 'Jane': 0.06666666666666667, 'Foster': 0.06666666666666667, 'gets': 0.06666666666666667, 'encouragement': 0.06666666666666667, 'mother': 0.06666666666666667, 'Frigga': 0.06666666666666667, 'old': 0.06666666666666667, 'hammer': 0.06666666666666667, 'Mjolnir': 0.2, '2014': 0.5333333333333333, 'Morag': 0.06666666666666667, 'Power': 0.06666666666666667, 'Peter': 0.06666666666666667, 'Quill': 0.06666666666666667, 'can,[e': 0.06666666666666667, 'Vormir': 0.06666666666666667, 'Soul': 0.06666666666666667, 'keeper': 0.06666666666666667, 'Red': 0.06666666666666667, 'Skull': 0.06666666666666667, 'reveals': 0.06666666666666667, 'acquired': 0.06666666666666667, 'sacrificing': 0.06666666666666667, 'loved': 0.06666666666666667, 'sacrifices': 0.06666666666666667, 'incapacitated': 0.06666666666666667, 'cybernetic': 0.06666666666666667, 'implants': 0.06666666666666667, 'link': 0.06666666666666667, 'self': 0.2, 'learn': 0.06666666666666667, 'future': 0.13333333333333333, 'success': 0.06666666666666667, 'undo': 0.06666666666666667, 'sends': 0.06666666666666667, 'forward': 0.06666666666666667, 'prepare': 0.06666666666666667, 'arrival': 0.06666666666666667, 'Reuniting': 0.06666666666666667, 'place': 0.06666666666666667, 'gauntlet': 0.2, 'built': 0.06666666666666667, 'Having': 0.06666666666666667, 'resistance': 0.06666666666666667, 'radiation': 0.06666666666666667, 'wields': 0.06666666666666667, 'reverses': 0.06666666666666667, 'disintegrations': 0.06666666666666667, 'impersonating': 0.06666666666666667, 'uses': 0.2, 'transport': 0.06666666666666667, 'warship': 0.13333333333333333, 'destroy': 0.13333333333333333, 'Present': 0.06666666666666667, 'day': 0.06666666666666667, 'Gamora': 0.06666666666666667, 'betray': 0.06666666666666667, 'unable': 0.06666666666666667, 'convince': 0.06666666666666667, 'kills': 0.06666666666666667, 'overpowers': 0.13333333333333333, 'wielding': 0.06666666666666667, 'summons': 0.06666666666666667, 'army': 0.2, 'intent': 0.06666666666666667, 'universe': 0.06666666666666667, 'new': 0.13333333333333333, 'restored': 0.13333333333333333, 'Stephen': 0.06666666666666667, 'Strange': 0.06666666666666667, 'arrives': 0.13333333333333333, 'sorcerers': 0.06666666666666667, 'Guardians': 0.13333333333333333, 'Galaxy': 0.06666666666666667, 'Ravagers': 0.06666666666666667, 'armies': 0.06666666666666667, 'Wakanda': 0.06666666666666667, 'fight': 0.06666666666666667, 'destroys': 0.06666666666666667, 'seizes': 0.06666666666666667, 'disintegrate': 0.06666666666666667, 'cost': 0.06666666666666667, 'Following': 0.06666666666666667, 'funeral': 0.06666666666666667, 'appoints': 0.06666666666666667, 'Valkyrie': 0.06666666666666667, 'king': 0.06666666666666667, 'joins': 0.06666666666666667, 'returns': 0.06666666666666667, 'timelines': 0.06666666666666667, 'remains': 0.06666666666666667, 'live': 0.06666666666666667, 'elderly': 0.06666666666666667, 'passes': 0.06666666666666667, 'shield': 0.06666666666666667, 'Sam': 0.06666666666666667, 'Wilson': 0.06666666666666667}\n"
     ]
    }
   ],
   "source": [
    "print(word_frequency)"
   ]
  },
  {
   "cell_type": "code",
   "execution_count": 48,
   "metadata": {},
   "outputs": [],
   "source": [
    "sentence_score={}\n",
    "for sent in sent_tokens:\n",
    "    for word in sent :\n",
    "        if word.text.lower() in word_frequency.keys():\n",
    "            if sent not in sentence_score.keys():\n",
    "                sentence_score[sent]=word_frequency[word.text]\n",
    "            else:\n",
    "                 sentence_score[sent]+=word_frequency[word.text]   "
   ]
  },
  {
   "cell_type": "code",
   "execution_count": 49,
   "metadata": {},
   "outputs": [
    {
     "name": "stdout",
     "output_type": "stream",
     "text": [
      "{In 2018, twenty-three days after Thanos erased half of all life in the universe,[a] Carol Danvers rescues Tony Stark and Nebula from deep space and they reunite with the remaining Avengers—Bruce Banner, Steve Rogers, Thor, Natasha Romanoff, and James Rhodes—and Rocket on Earth.: 1.0666666666666667, Locating Thanos on an uninhabited planet, they plan to use the Infinity Stones to reverse his actions, but discover Thanos has already destroyed them to prevent further use.: 0.9333333333333332, Enraged, Thor decapitates Thanos.: 0.06666666666666667, Five years later, Scott Lang escapes from the Quantum Realm.[b] Reaching the Avengers Compound, he explains that he experienced only five hours while trapped.: 0.4666666666666666, Theorizing that the Quantum Realm allows time travel, they ask a reluctant Stark to help them retrieve the Stones from the past to reverse the actions of Thanos in the present.: 2.2666666666666666, Stark, Rocket, and Banner, who has since merged his intelligence with the Hulk's strength, build a time machine.: 0.8666666666666667, Banner notes that altering the past does not affect their present; any changes create alternate realities.: 1.2, Banner and Rocket travel to Norway, where they visit the Asgardian refugees' settlement New Asgard and recruit an overweight and despondent Thor.: 1.0666666666666667, In Tokyo, Romanoff recruits Clint Barton, who became a vigilante after the death of his family.: 0.26666666666666666, Banner, Lang, Rogers, and Stark time-travel to New York City during Loki's attack in 2012.[c]: 1.2666666666666666, At the Sanctum Sanctorum, Banner convinces the Ancient One to give him the Time Stone after promising to return the various Stones to their proper points in time.: 1.1333333333333333, At Stark Tower, Rogers retrieves the Mind Stone from Hydra sleeper agents, but Stark and Lang's attempt to steal the Space Stone fails, allowing 2012-Loki to escape with it.: 1.1333333333333333, Rogers and Stark travel to Camp Lehigh in 1970, where Stark obtains an earlier version of the Space Stone and encounters his father, Howard.: 0.9999999999999999, Rogers steals Pym Particles from Hank Pym to return to the present and spies his lost love, Peggy Carter.: 0.9333333333333333, Meanwhile, Rocket and Thor travel to Asgard in 2013;[d]: 0.5333333333333333, Rocket extracts the Reality Stone from Jane Foster, while Thor gets encouragement from his mother, Frigga, and retrieves his old hammer, Mjolnir.: 0.5333333333333333, Barton, Romanoff, Nebula, and Rhodes travel to 2014; Nebula and Rhodes go to Morag and steal the Power Stone before Peter Quill can,[e] while Barton and Romanoff travel to Vormir.: 1.6666666666666665, The Soul Stone's keeper, Red Skull, reveals it can only be acquired by sacrificing a loved one.: 0.3333333333333333, Romanoff sacrifices herself, allowing Barton to get the Stone.: 0.26666666666666666, Rhodes and Nebula attempt to return to their own time, but Nebula is incapacitated when her cybernetic implants link with her past self, allowing 2014-Thanos to learn of his future self's success and the Avengers' attempt to undo it.: 3.0666666666666673, 2014-Thanos sends 2014-Nebula forward in time to prepare for his arrival.: 1.7999999999999998, Reuniting in the present, the Avengers place the Stones into a gauntlet that Stark, Banner, and Rocket have built.: 0.7333333333333334, Having the most resistance to their radiation, Banner wields the gauntlet and reverses Thanos's disintegrations.: 0.5333333333333333, Meanwhile, 2014-Nebula, impersonating her future self, uses the time machine to transport 2014-Thanos and his warship to the present, which he then uses to destroy the Avengers Compound.: 3.2, Present-day Nebula convinces 2014-Gamora to betray Thanos, but is unable to convince 2014-Nebula and kills her.: 1.5999999999999999, Thanos overpowers Stark, Thor, and a Mjolnir-wielding Rogers and summons his army to retrieve the Stones, intent on using them to destroy the universe and create a new one.: 1.1333333333333333, A restored Stephen Strange arrives with other sorcerers, the restored Avengers and Guardians of the Galaxy, the Ravagers, and the armies of Wakanda and Asgard to fight Thanos's army.: 0.8, Danvers also arrives and destroys Thanos's warship, but Thanos overpowers her and seizes the gauntlet.: 0.7333333333333334, Stark steals the Stones and uses them to disintegrate Thanos and his army, at the cost of his life.: 0.8, Following Stark's funeral, Thor appoints Valkyrie as the new king of New Asgard and joins the Guardians.: 0.6, Rogers returns the Stones and Mjolnir to their proper timelines and remains to live with Carter in the past.: 0.6666666666666666, In the present, an elderly Rogers passes his shield to Sam Wilson.: 0.6}\n"
     ]
    }
   ],
   "source": [
    "print(sentence_score)"
   ]
  },
  {
   "cell_type": "code",
   "execution_count": 50,
   "metadata": {},
   "outputs": [],
   "source": [
    "from heapq import nlargest"
   ]
  },
  {
   "cell_type": "code",
   "execution_count": 51,
   "metadata": {},
   "outputs": [],
   "source": [
    "select_length=int(len(sent_tokens)*0.3)"
   ]
  },
  {
   "cell_type": "code",
   "execution_count": 52,
   "metadata": {},
   "outputs": [
    {
     "data": {
      "text/plain": [
       "9"
      ]
     },
     "execution_count": 52,
     "metadata": {},
     "output_type": "execute_result"
    }
   ],
   "source": [
    "select_length"
   ]
  },
  {
   "cell_type": "code",
   "execution_count": 53,
   "metadata": {},
   "outputs": [],
   "source": [
    "summary=nlargest(select_length,sentence_score,key=sentence_score.get)"
   ]
  },
  {
   "cell_type": "code",
   "execution_count": 54,
   "metadata": {},
   "outputs": [
    {
     "data": {
      "text/plain": [
       "[Meanwhile, 2014-Nebula, impersonating her future self, uses the time machine to transport 2014-Thanos and his warship to the present, which he then uses to destroy the Avengers Compound.,\n",
       " Rhodes and Nebula attempt to return to their own time, but Nebula is incapacitated when her cybernetic implants link with her past self, allowing 2014-Thanos to learn of his future self's success and the Avengers' attempt to undo it.,\n",
       " Theorizing that the Quantum Realm allows time travel, they ask a reluctant Stark to help them retrieve the Stones from the past to reverse the actions of Thanos in the present.,\n",
       " 2014-Thanos sends 2014-Nebula forward in time to prepare for his arrival.,\n",
       " Barton, Romanoff, Nebula, and Rhodes travel to 2014; Nebula and Rhodes go to Morag and steal the Power Stone before Peter Quill can,[e] while Barton and Romanoff travel to Vormir.,\n",
       " Present-day Nebula convinces 2014-Gamora to betray Thanos, but is unable to convince 2014-Nebula and kills her.,\n",
       " Banner, Lang, Rogers, and Stark time-travel to New York City during Loki's attack in 2012.[c],\n",
       " Banner notes that altering the past does not affect their present; any changes create alternate realities.,\n",
       " At the Sanctum Sanctorum, Banner convinces the Ancient One to give him the Time Stone after promising to return the various Stones to their proper points in time.]"
      ]
     },
     "execution_count": 54,
     "metadata": {},
     "output_type": "execute_result"
    }
   ],
   "source": [
    "summary"
   ]
  },
  {
   "cell_type": "code",
   "execution_count": 58,
   "metadata": {},
   "outputs": [],
   "source": [
    "final_summary=[word.text for word in summary]"
   ]
  },
  {
   "cell_type": "code",
   "execution_count": 59,
   "metadata": {},
   "outputs": [],
   "source": [
    "final_summary=' '.join(final_summary)"
   ]
  },
  {
   "cell_type": "code",
   "execution_count": 61,
   "metadata": {},
   "outputs": [
    {
     "data": {
      "text/plain": [
       "\"Meanwhile, 2014-Nebula, impersonating her future self, uses the time machine to transport 2014-Thanos and his warship to the present, which he then uses to destroy the Avengers Compound. Rhodes and Nebula attempt to return to their own time, but Nebula is incapacitated when her cybernetic implants link with her past self, allowing 2014-Thanos to learn of his future self's success and the Avengers' attempt to undo it. Theorizing that the Quantum Realm allows time travel, they ask a reluctant Stark to help them retrieve the Stones from the past to reverse the actions of Thanos in the present. 2014-Thanos sends 2014-Nebula forward in time to prepare for his arrival. Barton, Romanoff, Nebula, and Rhodes travel to 2014; Nebula and Rhodes go to Morag and steal the Power Stone before Peter Quill can,[e] while Barton and Romanoff travel to Vormir. Present-day Nebula convinces 2014-Gamora to betray Thanos, but is unable to convince 2014-Nebula and kills her. Banner, Lang, Rogers, and Stark time-travel to New York City during Loki's attack in 2012.[c] Banner notes that altering the past does not affect their present; any changes create alternate realities. At the Sanctum Sanctorum, Banner convinces the Ancient One to give him the Time Stone after promising to return the various Stones to their proper points in time.\""
      ]
     },
     "execution_count": 61,
     "metadata": {},
     "output_type": "execute_result"
    }
   ],
   "source": [
    "final_summary"
   ]
  },
  {
   "cell_type": "code",
   "execution_count": null,
   "metadata": {},
   "outputs": [],
   "source": []
  }
 ],
 "metadata": {
  "kernelspec": {
   "display_name": "Python 3.9.12 ('base')",
   "language": "python",
   "name": "python3"
  },
  "language_info": {
   "codemirror_mode": {
    "name": "ipython",
    "version": 3
   },
   "file_extension": ".py",
   "mimetype": "text/x-python",
   "name": "python",
   "nbconvert_exporter": "python",
   "pygments_lexer": "ipython3",
   "version": "3.9.12"
  },
  "orig_nbformat": 4,
  "vscode": {
   "interpreter": {
    "hash": "586ad1ed5c97141e2437e681efbf1ec0adcd17d830cf5af2ca3d2819e743e158"
   }
  }
 },
 "nbformat": 4,
 "nbformat_minor": 2
}
