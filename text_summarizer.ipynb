{
 "cells": [
  {
   "cell_type": "markdown",
   "metadata": {},
   "source": [
    "## Text Summarizer"
   ]
  },
  {
   "cell_type": "code",
   "execution_count": 49,
   "metadata": {},
   "outputs": [],
   "source": [
    "import spacy\n",
    "from string import punctuation\n",
    "from spacy.lang.en.stop_words import STOP_WORDS"
   ]
  },
  {
   "cell_type": "code",
   "execution_count": 50,
   "metadata": {},
   "outputs": [],
   "source": [
    "nlp=spacy.load(\"en_core_web_sm\")"
   ]
  },
  {
   "cell_type": "code",
   "execution_count": 51,
   "metadata": {},
   "outputs": [],
   "source": [
    "news=\"Deep learning is a subfield of machine learning that has revolutionized the way we approach artificial intelligence. It is a method of training artificial neural networks with multiple layers of interconnected nodes, allowing them to learn and recognize complex patterns in data.In traditional machine learning, the data is fed into an algorithm, which extracts features from the data and uses these features to make predictions or classifications. However, in deep learning, the algorithm itself learns the features from the raw data, allowing it to perform more complex tasks and achieve higher accuracy.Deep learning is inspired by the structure and function of the human brain, which is made up of interconnected layers of neurons. In a deep learning neural network, each layer of nodes is responsible for recognizing a different level of abstraction in the data. The first layer might recognize basic features such as edges and corners, while subsequent layers might recognize more complex patterns such as shapes and objects.One of the key advantages of deep learning is its ability to learn from vast amounts of data. For example, deep learning has been used to develop image recognition systems that can recognize objects in photos with incredible accuracy. These systems have been trained on massive datasets of labeled images, allowing them to learn to recognize a wide range of objects in various contexts.Deep learning has also been used in natural language processing, speech recognition, and even playing games such as chess and Go. In each case, the neural network is trained on vast amounts of data and learns to recognize patterns and make predictions based on that data. \""
   ]
  },
  {
   "cell_type": "code",
   "execution_count": 52,
   "metadata": {},
   "outputs": [],
   "source": [
    "doc=nlp(news)"
   ]
  },
  {
   "cell_type": "code",
   "execution_count": 53,
   "metadata": {},
   "outputs": [],
   "source": [
    "stop_words=list(STOP_WORDS)\n",
    "punctuation=punctuation+'\\n'"
   ]
  },
  {
   "cell_type": "code",
   "execution_count": 54,
   "metadata": {},
   "outputs": [
    {
     "data": {
      "text/plain": [
       "'!\"#$%&\\'()*+,-./:;<=>?@[\\\\]^_`{|}~\\n'"
      ]
     },
     "execution_count": 54,
     "metadata": {},
     "output_type": "execute_result"
    }
   ],
   "source": [
    "punctuation"
   ]
  },
  {
   "cell_type": "code",
   "execution_count": 55,
   "metadata": {},
   "outputs": [
    {
     "name": "stdout",
     "output_type": "stream",
     "text": [
      "['Deep', 'learning', 'is', 'a', 'subfield', 'of', 'machine', 'learning', 'that', 'has', 'revolutionized', 'the', 'way', 'we', 'approach', 'artificial', 'intelligence', '.', 'It', 'is', 'a', 'method', 'of', 'training', 'artificial', 'neural', 'networks', 'with', 'multiple', 'layers', 'of', 'interconnected', 'nodes', ',', 'allowing', 'them', 'to', 'learn', 'and', 'recognize', 'complex', 'patterns', 'in', 'data', '.', 'In', 'traditional', 'machine', 'learning', ',', 'the', 'data', 'is', 'fed', 'into', 'an', 'algorithm', ',', 'which', 'extracts', 'features', 'from', 'the', 'data', 'and', 'uses', 'these', 'features', 'to', 'make', 'predictions', 'or', 'classifications', '.', 'However', ',', 'in', 'deep', 'learning', ',', 'the', 'algorithm', 'itself', 'learns', 'the', 'features', 'from', 'the', 'raw', 'data', ',', 'allowing', 'it', 'to', 'perform', 'more', 'complex', 'tasks', 'and', 'achieve', 'higher', 'accuracy', '.', 'Deep', 'learning', 'is', 'inspired', 'by', 'the', 'structure', 'and', 'function', 'of', 'the', 'human', 'brain', ',', 'which', 'is', 'made', 'up', 'of', 'interconnected', 'layers', 'of', 'neurons', '.', 'In', 'a', 'deep', 'learning', 'neural', 'network', ',', 'each', 'layer', 'of', 'nodes', 'is', 'responsible', 'for', 'recognizing', 'a', 'different', 'level', 'of', 'abstraction', 'in', 'the', 'data', '.', 'The', 'first', 'layer', 'might', 'recognize', 'basic', 'features', 'such', 'as', 'edges', 'and', 'corners', ',', 'while', 'subsequent', 'layers', 'might', 'recognize', 'more', 'complex', 'patterns', 'such', 'as', 'shapes', 'and', 'objects', '.', 'One', 'of', 'the', 'key', 'advantages', 'of', 'deep', 'learning', 'is', 'its', 'ability', 'to', 'learn', 'from', 'vast', 'amounts', 'of', 'data', '.', 'For', 'example', ',', 'deep', 'learning', 'has', 'been', 'used', 'to', 'develop', 'image', 'recognition', 'systems', 'that', 'can', 'recognize', 'objects', 'in', 'photos', 'with', 'incredible', 'accuracy', '.', 'These', 'systems', 'have', 'been', 'trained', 'on', 'massive', 'datasets', 'of', 'labeled', 'images', ',', 'allowing', 'them', 'to', 'learn', 'to', 'recognize', 'a', 'wide', 'range', 'of', 'objects', 'in', 'various', 'contexts', '.', 'Deep', 'learning', 'has', 'also', 'been', 'used', 'in', 'natural', 'language', 'processing', ',', 'speech', 'recognition', ',', 'and', 'even', 'playing', 'games', 'such', 'as', 'chess', 'and', 'Go', '.', 'In', 'each', 'case', ',', 'the', 'neural', 'network', 'is', 'trained', 'on', 'vast', 'amounts', 'of', 'data', 'and', 'learns', 'to', 'recognize', 'patterns', 'and', 'make', 'predictions', 'based', 'on', 'that', 'data', '.']\n"
     ]
    }
   ],
   "source": [
    "tokens=[words.text for words in doc ]\n",
    "print(tokens)"
   ]
  },
  {
   "cell_type": "code",
   "execution_count": 56,
   "metadata": {},
   "outputs": [
    {
     "name": "stdout",
     "output_type": "stream",
     "text": [
      "[Deep learning is a subfield of machine learning that has revolutionized the way we approach artificial intelligence., It is a method of training artificial neural networks with multiple layers of interconnected nodes, allowing them to learn and recognize complex patterns in data., In traditional machine learning, the data is fed into an algorithm, which extracts features from the data and uses these features to make predictions or classifications., However, in deep learning, the algorithm itself learns the features from the raw data, allowing it to perform more complex tasks and achieve higher accuracy., Deep learning is inspired by the structure and function of the human brain, which is made up of interconnected layers of neurons., In a deep learning neural network, each layer of nodes is responsible for recognizing a different level of abstraction in the data., The first layer might recognize basic features such as edges and corners, while subsequent layers might recognize more complex patterns such as shapes and objects., One of the key advantages of deep learning is its ability to learn from vast amounts of data., For example, deep learning has been used to develop image recognition systems that can recognize objects in photos with incredible accuracy., These systems have been trained on massive datasets of labeled images, allowing them to learn to recognize a wide range of objects in various contexts., Deep learning has also been used in natural language processing, speech recognition, and even playing games such as chess and Go., In each case, the neural network is trained on vast amounts of data and learns to recognize patterns and make predictions based on that data.]\n"
     ]
    }
   ],
   "source": [
    "sent_tokens=[sent for sent in doc.sents]\n",
    "print(sent_tokens)"
   ]
  },
  {
   "cell_type": "code",
   "execution_count": 57,
   "metadata": {},
   "outputs": [],
   "source": [
    "word_frequency={}\n",
    "for word in doc:\n",
    "    if word.text.lower() not in stop_words:\n",
    "        if word.text.lower() not in punctuation:\n",
    "            if word.text not in word_frequency.keys():\n",
    "                word_frequency[word.text]=1\n",
    "            else:\n",
    "                word_frequency[word.text]+=1\n"
   ]
  },
  {
   "cell_type": "code",
   "execution_count": 58,
   "metadata": {},
   "outputs": [
    {
     "name": "stdout",
     "output_type": "stream",
     "text": [
      "{'Deep': 3, 'learning': 9, 'subfield': 1, 'machine': 2, 'revolutionized': 1, 'way': 1, 'approach': 1, 'artificial': 2, 'intelligence': 1, 'method': 1, 'training': 1, 'neural': 3, 'networks': 1, 'multiple': 1, 'layers': 3, 'interconnected': 2, 'nodes': 2, 'allowing': 3, 'learn': 3, 'recognize': 6, 'complex': 3, 'patterns': 3, 'data': 8, 'traditional': 1, 'fed': 1, 'algorithm': 2, 'extracts': 1, 'features': 4, 'uses': 1, 'predictions': 2, 'classifications': 1, 'deep': 4, 'learns': 2, 'raw': 1, 'perform': 1, 'tasks': 1, 'achieve': 1, 'higher': 1, 'accuracy': 2, 'inspired': 1, 'structure': 1, 'function': 1, 'human': 1, 'brain': 1, 'neurons': 1, 'network': 2, 'layer': 2, 'responsible': 1, 'recognizing': 1, 'different': 1, 'level': 1, 'abstraction': 1, 'basic': 1, 'edges': 1, 'corners': 1, 'subsequent': 1, 'shapes': 1, 'objects': 3, 'key': 1, 'advantages': 1, 'ability': 1, 'vast': 2, 'amounts': 2, 'example': 1, 'develop': 1, 'image': 1, 'recognition': 2, 'systems': 2, 'photos': 1, 'incredible': 1, 'trained': 2, 'massive': 1, 'datasets': 1, 'labeled': 1, 'images': 1, 'wide': 1, 'range': 1, 'contexts': 1, 'natural': 1, 'language': 1, 'processing': 1, 'speech': 1, 'playing': 1, 'games': 1, 'chess': 1, 'case': 1, 'based': 1}\n"
     ]
    }
   ],
   "source": [
    "print(word_frequency)"
   ]
  },
  {
   "cell_type": "code",
   "execution_count": 59,
   "metadata": {},
   "outputs": [],
   "source": [
    "max_frequency=max(word_frequency.values())"
   ]
  },
  {
   "cell_type": "code",
   "execution_count": 60,
   "metadata": {},
   "outputs": [
    {
     "data": {
      "text/plain": [
       "9"
      ]
     },
     "execution_count": 60,
     "metadata": {},
     "output_type": "execute_result"
    }
   ],
   "source": [
    "max_frequency"
   ]
  },
  {
   "cell_type": "code",
   "execution_count": 61,
   "metadata": {},
   "outputs": [],
   "source": [
    "for word in word_frequency:\n",
    "    word_frequency[word]=word_frequency[word]/max_frequency"
   ]
  },
  {
   "cell_type": "code",
   "execution_count": 62,
   "metadata": {},
   "outputs": [
    {
     "name": "stdout",
     "output_type": "stream",
     "text": [
      "{'Deep': 0.3333333333333333, 'learning': 1.0, 'subfield': 0.1111111111111111, 'machine': 0.2222222222222222, 'revolutionized': 0.1111111111111111, 'way': 0.1111111111111111, 'approach': 0.1111111111111111, 'artificial': 0.2222222222222222, 'intelligence': 0.1111111111111111, 'method': 0.1111111111111111, 'training': 0.1111111111111111, 'neural': 0.3333333333333333, 'networks': 0.1111111111111111, 'multiple': 0.1111111111111111, 'layers': 0.3333333333333333, 'interconnected': 0.2222222222222222, 'nodes': 0.2222222222222222, 'allowing': 0.3333333333333333, 'learn': 0.3333333333333333, 'recognize': 0.6666666666666666, 'complex': 0.3333333333333333, 'patterns': 0.3333333333333333, 'data': 0.8888888888888888, 'traditional': 0.1111111111111111, 'fed': 0.1111111111111111, 'algorithm': 0.2222222222222222, 'extracts': 0.1111111111111111, 'features': 0.4444444444444444, 'uses': 0.1111111111111111, 'predictions': 0.2222222222222222, 'classifications': 0.1111111111111111, 'deep': 0.4444444444444444, 'learns': 0.2222222222222222, 'raw': 0.1111111111111111, 'perform': 0.1111111111111111, 'tasks': 0.1111111111111111, 'achieve': 0.1111111111111111, 'higher': 0.1111111111111111, 'accuracy': 0.2222222222222222, 'inspired': 0.1111111111111111, 'structure': 0.1111111111111111, 'function': 0.1111111111111111, 'human': 0.1111111111111111, 'brain': 0.1111111111111111, 'neurons': 0.1111111111111111, 'network': 0.2222222222222222, 'layer': 0.2222222222222222, 'responsible': 0.1111111111111111, 'recognizing': 0.1111111111111111, 'different': 0.1111111111111111, 'level': 0.1111111111111111, 'abstraction': 0.1111111111111111, 'basic': 0.1111111111111111, 'edges': 0.1111111111111111, 'corners': 0.1111111111111111, 'subsequent': 0.1111111111111111, 'shapes': 0.1111111111111111, 'objects': 0.3333333333333333, 'key': 0.1111111111111111, 'advantages': 0.1111111111111111, 'ability': 0.1111111111111111, 'vast': 0.2222222222222222, 'amounts': 0.2222222222222222, 'example': 0.1111111111111111, 'develop': 0.1111111111111111, 'image': 0.1111111111111111, 'recognition': 0.2222222222222222, 'systems': 0.2222222222222222, 'photos': 0.1111111111111111, 'incredible': 0.1111111111111111, 'trained': 0.2222222222222222, 'massive': 0.1111111111111111, 'datasets': 0.1111111111111111, 'labeled': 0.1111111111111111, 'images': 0.1111111111111111, 'wide': 0.1111111111111111, 'range': 0.1111111111111111, 'contexts': 0.1111111111111111, 'natural': 0.1111111111111111, 'language': 0.1111111111111111, 'processing': 0.1111111111111111, 'speech': 0.1111111111111111, 'playing': 0.1111111111111111, 'games': 0.1111111111111111, 'chess': 0.1111111111111111, 'case': 0.1111111111111111, 'based': 0.1111111111111111}\n"
     ]
    }
   ],
   "source": [
    "print(word_frequency)"
   ]
  },
  {
   "cell_type": "code",
   "execution_count": 63,
   "metadata": {},
   "outputs": [],
   "source": [
    "sentence_score={}\n",
    "for sent in sent_tokens:\n",
    "    for word in sent :\n",
    "        if word.text.lower() in word_frequency.keys():\n",
    "            if sent not in sentence_score.keys():\n",
    "                sentence_score[sent]=word_frequency[word.text]\n",
    "            else:\n",
    "                 sentence_score[sent]+=word_frequency[word.text]   "
   ]
  },
  {
   "cell_type": "code",
   "execution_count": 64,
   "metadata": {},
   "outputs": [
    {
     "name": "stdout",
     "output_type": "stream",
     "text": [
      "{Deep learning is a subfield of machine learning that has revolutionized the way we approach artificial intelligence.: 3.3333333333333335, It is a method of training artificial neural networks with multiple layers of interconnected nodes, allowing them to learn and recognize complex patterns in data.: 4.666666666666667, In traditional machine learning, the data is fed into an algorithm, which extracts features from the data and uses these features to make predictions or classifications.: 4.888888888888888, However, in deep learning, the algorithm itself learns the features from the raw data, allowing it to perform more complex tasks and achieve higher accuracy.: 4.666666666666665, Deep learning is inspired by the structure and function of the human brain, which is made up of interconnected layers of neurons.: 2.555555555555556, In a deep learning neural network, each layer of nodes is responsible for recognizing a different level of abstraction in the data.: 3.8888888888888893, The first layer might recognize basic features such as edges and corners, while subsequent layers might recognize more complex patterns such as shapes and objects.: 3.8888888888888893, One of the key advantages of deep learning is its ability to learn from vast amounts of data.: 3.4444444444444446, For example, deep learning has been used to develop image recognition systems that can recognize objects in photos with incredible accuracy.: 3.666666666666667, These systems have been trained on massive datasets of labeled images, allowing them to learn to recognize a wide range of objects in various contexts.: 2.8888888888888893, Deep learning has also been used in natural language processing, speech recognition, and even playing games such as chess and Go.: 2.3333333333333335, In each case, the neural network is trained on vast amounts of data and learns to recognize patterns and make predictions based on that data.: 4.666666666666667}\n"
     ]
    }
   ],
   "source": [
    "print(sentence_score)"
   ]
  },
  {
   "cell_type": "code",
   "execution_count": 65,
   "metadata": {},
   "outputs": [],
   "source": [
    "from heapq import nlargest"
   ]
  },
  {
   "cell_type": "code",
   "execution_count": 66,
   "metadata": {},
   "outputs": [],
   "source": [
    "select_length=int(len(sent_tokens)*0.4)"
   ]
  },
  {
   "cell_type": "code",
   "execution_count": 67,
   "metadata": {},
   "outputs": [
    {
     "data": {
      "text/plain": [
       "4"
      ]
     },
     "execution_count": 67,
     "metadata": {},
     "output_type": "execute_result"
    }
   ],
   "source": [
    "select_length"
   ]
  },
  {
   "cell_type": "code",
   "execution_count": 68,
   "metadata": {},
   "outputs": [],
   "source": [
    "summary=nlargest(select_length,sentence_score,key=sentence_score.get)"
   ]
  },
  {
   "cell_type": "code",
   "execution_count": 69,
   "metadata": {},
   "outputs": [
    {
     "data": {
      "text/plain": [
       "[In traditional machine learning, the data is fed into an algorithm, which extracts features from the data and uses these features to make predictions or classifications.,\n",
       " It is a method of training artificial neural networks with multiple layers of interconnected nodes, allowing them to learn and recognize complex patterns in data.,\n",
       " In each case, the neural network is trained on vast amounts of data and learns to recognize patterns and make predictions based on that data.,\n",
       " However, in deep learning, the algorithm itself learns the features from the raw data, allowing it to perform more complex tasks and achieve higher accuracy.]"
      ]
     },
     "execution_count": 69,
     "metadata": {},
     "output_type": "execute_result"
    }
   ],
   "source": [
    "summary"
   ]
  },
  {
   "cell_type": "code",
   "execution_count": 70,
   "metadata": {},
   "outputs": [],
   "source": [
    "final_summary=[word.text for word in summary]"
   ]
  },
  {
   "cell_type": "code",
   "execution_count": 71,
   "metadata": {},
   "outputs": [],
   "source": [
    "final_summary=' '.join(final_summary)"
   ]
  },
  {
   "cell_type": "code",
   "execution_count": 72,
   "metadata": {},
   "outputs": [
    {
     "data": {
      "text/plain": [
       "'In traditional machine learning, the data is fed into an algorithm, which extracts features from the data and uses these features to make predictions or classifications. It is a method of training artificial neural networks with multiple layers of interconnected nodes, allowing them to learn and recognize complex patterns in data. In each case, the neural network is trained on vast amounts of data and learns to recognize patterns and make predictions based on that data. However, in deep learning, the algorithm itself learns the features from the raw data, allowing it to perform more complex tasks and achieve higher accuracy.'"
      ]
     },
     "execution_count": 72,
     "metadata": {},
     "output_type": "execute_result"
    }
   ],
   "source": [
    "final_summary"
   ]
  }
 ],
 "metadata": {
  "kernelspec": {
   "display_name": "Python 3.9.12 ('base')",
   "language": "python",
   "name": "python3"
  },
  "language_info": {
   "codemirror_mode": {
    "name": "ipython",
    "version": 3
   },
   "file_extension": ".py",
   "mimetype": "text/x-python",
   "name": "python",
   "nbconvert_exporter": "python",
   "pygments_lexer": "ipython3",
   "version": "3.9.12"
  },
  "orig_nbformat": 4,
  "vscode": {
   "interpreter": {
    "hash": "586ad1ed5c97141e2437e681efbf1ec0adcd17d830cf5af2ca3d2819e743e158"
   }
  }
 },
 "nbformat": 4,
 "nbformat_minor": 2
}
